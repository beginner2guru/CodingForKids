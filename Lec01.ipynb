{
 "cells": [
  {
   "cell_type": "markdown",
   "id": "b4ae477d",
   "metadata": {},
   "source": [
    "# 运行单元格\n",
    "在notebook中，可以通过shift+Enter组合键来运行单元格。\n",
    "我们常用到的单元格有两种，一种是代码（code），另一种是文档（markdown）。\n",
    "\n",
    "注意，在代码中也可以使用#来表示注释\n",
    "```python\n",
    "# 这是一段注释\n",
    "```"
   ]
  },
  {
   "cell_type": "markdown",
   "id": "fa2d1af9",
   "metadata": {},
   "source": [
    "# 打印函数\n",
    "print函数，可以打印出输入的参数。是我们显示程序运行结果的主要输出方式。"
   ]
  },
  {
   "cell_type": "code",
   "execution_count": 3,
   "id": "0584d082",
   "metadata": {},
   "outputs": [
    {
     "name": "stdout",
     "output_type": "stream",
     "text": [
      "This is a string argument\n"
     ]
    }
   ],
   "source": [
    "# 括号中是输入的参数\n",
    "print(\"This is a string argument\")"
   ]
  },
  {
   "cell_type": "markdown",
   "id": "917ede5e",
   "metadata": {},
   "source": [
    "## 练习题\n",
    "打印出Hello World"
   ]
  },
  {
   "cell_type": "code",
   "execution_count": 4,
   "id": "2c89011f",
   "metadata": {},
   "outputs": [
    {
     "name": "stdout",
     "output_type": "stream",
     "text": [
      "Hello World\n"
     ]
    }
   ],
   "source": [
    "print(\"Hello World\")"
   ]
  },
  {
   "cell_type": "markdown",
   "id": "7e2a2e43",
   "metadata": {},
   "source": [
    "# 运算符\n",
    "常用的运算符包括了：\n",
    "- 加法 +\n",
    "- 减法 -\n",
    "- 乘法 *\n",
    "- 除法 /\n",
    "- 取余 %\n",
    "- () 括号内先计算"
   ]
  },
  {
   "cell_type": "code",
   "execution_count": 5,
   "id": "eefeb619",
   "metadata": {},
   "outputs": [
    {
     "data": {
      "text/plain": [
       "13"
      ]
     },
     "execution_count": 5,
     "metadata": {},
     "output_type": "execute_result"
    }
   ],
   "source": [
    "9+4"
   ]
  },
  {
   "cell_type": "code",
   "execution_count": 6,
   "id": "dd58c299",
   "metadata": {},
   "outputs": [
    {
     "data": {
      "text/plain": [
       "5"
      ]
     },
     "execution_count": 6,
     "metadata": {},
     "output_type": "execute_result"
    }
   ],
   "source": [
    "9-4"
   ]
  },
  {
   "cell_type": "code",
   "execution_count": 7,
   "id": "f6c1b62f",
   "metadata": {},
   "outputs": [
    {
     "data": {
      "text/plain": [
       "36"
      ]
     },
     "execution_count": 7,
     "metadata": {},
     "output_type": "execute_result"
    }
   ],
   "source": [
    "9*4"
   ]
  },
  {
   "cell_type": "code",
   "execution_count": 8,
   "id": "c6a45f03",
   "metadata": {},
   "outputs": [
    {
     "data": {
      "text/plain": [
       "2.25"
      ]
     },
     "execution_count": 8,
     "metadata": {},
     "output_type": "execute_result"
    }
   ],
   "source": [
    "9/4"
   ]
  },
  {
   "cell_type": "code",
   "execution_count": 9,
   "id": "379263c0",
   "metadata": {},
   "outputs": [
    {
     "data": {
      "text/plain": [
       "1"
      ]
     },
     "execution_count": 9,
     "metadata": {},
     "output_type": "execute_result"
    }
   ],
   "source": [
    "9%4"
   ]
  },
  {
   "cell_type": "code",
   "execution_count": 10,
   "id": "5f352a1f",
   "metadata": {},
   "outputs": [
    {
     "data": {
      "text/plain": [
       "39"
      ]
     },
     "execution_count": 10,
     "metadata": {},
     "output_type": "execute_result"
    }
   ],
   "source": [
    "9*4+3"
   ]
  },
  {
   "cell_type": "code",
   "execution_count": 11,
   "id": "66ae23fc",
   "metadata": {},
   "outputs": [
    {
     "data": {
      "text/plain": [
       "63"
      ]
     },
     "execution_count": 11,
     "metadata": {},
     "output_type": "execute_result"
    }
   ],
   "source": [
    "9*(4+3)"
   ]
  },
  {
   "cell_type": "markdown",
   "id": "58c0c439",
   "metadata": {},
   "source": [
    "## 练习题\n",
    "计算题，133加14,再除以3等于多少，使用一个算式计算"
   ]
  },
  {
   "cell_type": "code",
   "execution_count": 12,
   "id": "fc514203",
   "metadata": {},
   "outputs": [
    {
     "data": {
      "text/plain": [
       "49.0"
      ]
     },
     "execution_count": 12,
     "metadata": {},
     "output_type": "execute_result"
    }
   ],
   "source": [
    "(133+14)/3"
   ]
  },
  {
   "cell_type": "markdown",
   "id": "731cce4a",
   "metadata": {},
   "source": [
    "# 变量\n",
    "我们可以使用变量来代表一个数值，字符串或布尔值（真假）。\n",
    "- 数值：表示整数或小数，如1或3.14\n",
    "- 字符串：表示一段文字，如\"Hello World\"\n",
    "- 布尔值（真假）：表示真True，或假False\n"
   ]
  },
  {
   "cell_type": "code",
   "execution_count": 13,
   "id": "e52e9e6e",
   "metadata": {},
   "outputs": [
    {
     "data": {
      "text/plain": [
       "45"
      ]
     },
     "execution_count": 13,
     "metadata": {},
     "output_type": "execute_result"
    }
   ],
   "source": [
    "# 通过等于号（=）赋值，变量a此后就代表9\n",
    "a = 9\n",
    "a * 5"
   ]
  },
  {
   "cell_type": "code",
   "execution_count": 14,
   "id": "1f5526b5",
   "metadata": {},
   "outputs": [
    {
     "data": {
      "text/plain": [
       "30"
      ]
     },
     "execution_count": 14,
     "metadata": {},
     "output_type": "execute_result"
    }
   ],
   "source": [
    "# 再次通过等于号（=）赋值，可以覆盖前面的赋值\n",
    "a = 6\n",
    "a * 5"
   ]
  },
  {
   "cell_type": "markdown",
   "id": "69b2a1bc",
   "metadata": {},
   "source": [
    "# 函数\n",
    "函数可以通过对输入的参数变量进行操作，从而成为一个可以被重复调用的过程。之前的print函数就是一个系统定义好的函数，我们也可以自定义函数。下面给出了一个数值翻倍的函数定义方法。"
   ]
  },
  {
   "cell_type": "code",
   "execution_count": 15,
   "id": "cf55f882",
   "metadata": {},
   "outputs": [],
   "source": [
    "# def是define的缩写，define是定义的意思，return是返回的意思\n",
    "def double(x):\n",
    "    return x*2"
   ]
  },
  {
   "cell_type": "code",
   "execution_count": 16,
   "id": "31db15d5",
   "metadata": {},
   "outputs": [
    {
     "data": {
      "text/plain": [
       "6"
      ]
     },
     "execution_count": 16,
     "metadata": {},
     "output_type": "execute_result"
    }
   ],
   "source": [
    "double(3)"
   ]
  },
  {
   "cell_type": "markdown",
   "id": "0803bea2",
   "metadata": {},
   "source": [
    "# 条件控制语句\n",
    "```python\n",
    "if 布尔条件:\n",
    "  语句\n",
    "elif 布尔条件:\n",
    "  语句\n",
    "else:\n",
    "  语句\n",
    "```\n",
    "条件控制语句可以针对输入的参数情况，选择一种满足的条件分支（if或elif分支）进行执行，当条件都不满足时则执行else分支。其中if必须出现1次，elif可出现0到N次，else可以出现0到1次。下面给出一个整数取半的函数定义。"
   ]
  },
  {
   "cell_type": "code",
   "execution_count": 18,
   "id": "a7844aa5",
   "metadata": {},
   "outputs": [],
   "source": [
    "# 整数取半\n",
    "def half(x):\n",
    "    if x%2 == 0:\n",
    "        return x/2\n",
    "    elif x%2 == 1:\n",
    "        return (x-1)/2"
   ]
  },
  {
   "cell_type": "code",
   "execution_count": 19,
   "id": "300f57da",
   "metadata": {},
   "outputs": [
    {
     "data": {
      "text/plain": [
       "4.0"
      ]
     },
     "execution_count": 19,
     "metadata": {},
     "output_type": "execute_result"
    }
   ],
   "source": [
    "half(9)"
   ]
  },
  {
   "cell_type": "code",
   "execution_count": 20,
   "id": "304f74b1",
   "metadata": {},
   "outputs": [
    {
     "data": {
      "text/plain": [
       "4.0"
      ]
     },
     "execution_count": 20,
     "metadata": {},
     "output_type": "execute_result"
    }
   ],
   "source": [
    "half(8)"
   ]
  },
  {
   "cell_type": "markdown",
   "id": "d503ff21",
   "metadata": {},
   "source": [
    "# 循环控制语句\n",
    "```python\n",
    "for 变量 in range(开始值, 结束值): \n",
    "    循环体内部语句\n",
    "```\n",
    "变量会从开始值到结束值（不包括结束值）依次取值，间隔为1，针对每次取值都会执行循环体内部语句。下面给出一个从2打印到10的范例。"
   ]
  },
  {
   "cell_type": "code",
   "execution_count": 21,
   "id": "4f955cfb",
   "metadata": {},
   "outputs": [
    {
     "name": "stdout",
     "output_type": "stream",
     "text": [
      "2\n",
      "3\n",
      "4\n",
      "5\n",
      "6\n",
      "7\n",
      "8\n",
      "9\n"
     ]
    }
   ],
   "source": [
    "for i in range(2,10):\n",
    "    print(i)"
   ]
  },
  {
   "cell_type": "markdown",
   "id": "0e8fdeb8",
   "metadata": {},
   "source": [
    "# 质数列表打印\n",
    "我们利用条件控制语句和循环控制语句来实现一个打印100以内所有质数的方法。\n",
    "- 首先定义一个判断是否为质数的函数isPrime(x)\n",
    "- 循环对100以内的数字进行判断"
   ]
  },
  {
   "cell_type": "code",
   "execution_count": 22,
   "id": "b27f9b7f",
   "metadata": {},
   "outputs": [],
   "source": [
    "# 判断是否为质数\n",
    "def isPrime(x):\n",
    "    for i in range(2,x):\n",
    "        if x%i==0:\n",
    "            return False\n",
    "    return True"
   ]
  },
  {
   "cell_type": "code",
   "execution_count": 23,
   "id": "1ef88aea",
   "metadata": {},
   "outputs": [
    {
     "data": {
      "text/plain": [
       "True"
      ]
     },
     "execution_count": 23,
     "metadata": {},
     "output_type": "execute_result"
    }
   ],
   "source": [
    "isPrime(7)"
   ]
  },
  {
   "cell_type": "code",
   "execution_count": 24,
   "id": "96616624",
   "metadata": {},
   "outputs": [
    {
     "data": {
      "text/plain": [
       "False"
      ]
     },
     "execution_count": 24,
     "metadata": {},
     "output_type": "execute_result"
    }
   ],
   "source": [
    "isPrime(8)"
   ]
  },
  {
   "cell_type": "code",
   "execution_count": 25,
   "id": "c58fd0f4",
   "metadata": {},
   "outputs": [
    {
     "name": "stdout",
     "output_type": "stream",
     "text": [
      "2\n",
      "3\n",
      "5\n",
      "7\n",
      "11\n",
      "13\n",
      "17\n",
      "19\n",
      "23\n",
      "29\n",
      "31\n",
      "37\n",
      "41\n",
      "43\n",
      "47\n",
      "53\n",
      "59\n",
      "61\n",
      "67\n",
      "71\n",
      "73\n",
      "79\n",
      "83\n",
      "89\n",
      "97\n"
     ]
    }
   ],
   "source": [
    "# 输出一百以内的所有质数\n",
    "for a in range(2,101):\n",
    "    if isPrime(a):\n",
    "        print(a)"
   ]
  },
  {
   "cell_type": "markdown",
   "id": "00e73f96",
   "metadata": {},
   "source": [
    "## 练习题\n",
    "输出100到200以内的所有质数（包括200）。"
   ]
  },
  {
   "cell_type": "code",
   "execution_count": 26,
   "id": "5ab2d77b",
   "metadata": {},
   "outputs": [
    {
     "name": "stdout",
     "output_type": "stream",
     "text": [
      "101\n",
      "103\n",
      "107\n",
      "109\n",
      "113\n",
      "127\n",
      "131\n",
      "137\n",
      "139\n",
      "149\n",
      "151\n",
      "157\n",
      "163\n",
      "167\n",
      "173\n",
      "179\n",
      "181\n",
      "191\n",
      "193\n",
      "197\n",
      "199\n"
     ]
    }
   ],
   "source": [
    "for b in range(100,200):\n",
    "    if isPrime(b):\n",
    "        print(b)\n",
    "    "
   ]
  },
  {
   "cell_type": "code",
   "execution_count": null,
   "id": "f3455ea5",
   "metadata": {},
   "outputs": [],
   "source": []
  }
 ],
 "metadata": {
  "kernelspec": {
   "display_name": "Python 3 (ipykernel)",
   "language": "python",
   "name": "python3"
  },
  "language_info": {
   "codemirror_mode": {
    "name": "ipython",
    "version": 3
   },
   "file_extension": ".py",
   "mimetype": "text/x-python",
   "name": "python",
   "nbconvert_exporter": "python",
   "pygments_lexer": "ipython3",
   "version": "3.9.12"
  }
 },
 "nbformat": 4,
 "nbformat_minor": 5
}
